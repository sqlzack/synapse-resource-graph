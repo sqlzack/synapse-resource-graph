{
 "cells": [
  {
   "cell_type": "markdown",
   "metadata": {
    "application/vnd.databricks.v1+cell": {
     "cellMetadata": {},
     "inputWidgets": {},
     "nuid": "9acd6766-8836-4985-b9c5-6f253215f458",
     "showTitle": false,
     "title": ""
    }
   },
   "source": [
    "#### Set up Azure Credentials for use in API Calls\n",
    "Based on Cluster Configuration"
   ]
  },
  {
   "cell_type": "code",
   "execution_count": null,
   "metadata": {
    "application/vnd.databricks.v1+cell": {
     "cellMetadata": {
      "byteLimit": 2048000,
      "rowLimit": 10000
     },
     "inputWidgets": {},
     "nuid": "ff57db95-81e2-4a53-8c26-0eab68abea80",
     "showTitle": false,
     "title": ""
    }
   },
   "outputs": [],
   "source": [
    "from azure.identity import DefaultAzureCredential\n",
    "\n",
    "credential = DefaultAzureCredential()\n",
    "scope = \"https://management.azure.com/.default\"\n",
    "token = credential.get_token(scope)"
   ]
  },
  {
   "cell_type": "markdown",
   "metadata": {
    "application/vnd.databricks.v1+cell": {
     "cellMetadata": {},
     "inputWidgets": {},
     "nuid": "316fb6ce-bb87-4134-bae9-ebc342deec24",
     "showTitle": false,
     "title": ""
    }
   },
   "source": [
    "#### Set Variables and Import Modules for use throughout Notebook"
   ]
  },
  {
   "cell_type": "code",
   "execution_count": null,
   "metadata": {
    "application/vnd.databricks.v1+cell": {
     "cellMetadata": {
      "byteLimit": 2048000,
      "rowLimit": 10000
     },
     "inputWidgets": {},
     "nuid": "72271f4e-4ac0-406e-8bb8-6bb3c7f42976",
     "showTitle": false,
     "title": ""
    }
   },
   "outputs": [],
   "source": [
    "import requests\n",
    "import json\n",
    "\n",
    "# URI for Resource Graph Queries. \n",
    "# Is a variable because api-version may change over time.\n",
    "resourceGraphURL = 'https://management.azure.com/providers/Microsoft.ResourceGraph/resources?api-version=2020-04-01-preview'\n",
    "\n",
    "# The original Resource Graph KQL Query\n",
    "resourceGraphQuery = \"\"\"\n",
    "resourcechanges\n",
    "| extend changeType = tostring(properties.changeType), changeTime = todatetime(properties.changeAttributes.timestamp)\n",
    "| summarize arg_max(changeTime, changeType) by resourceId=id\n",
    "\"\"\"\n",
    "\n",
    "# Example of how to parse columns and rows from JSON response\n",
    "parseQuery = \"\"\"\n",
    "    WITH baseExplode AS\n",
    "    (\n",
    "    SELECT explode(data.rows) rowData\n",
    "    FROM v_tempJSON\n",
    "    )\n",
    "    SELECT  rowData[0] resourceId\n",
    "            ,rowData[1] changeTime\n",
    "            ,rowData[2] changeType\n",
    "    FROM baseExplode\n",
    "\"\"\"\n",
    "\n",
    "# Destination on Azure Data Lake Gen 2 to save data.\n",
    "# Needs to be accessible through Unity Catalog or Cluster Setup\n",
    "saveDestination = \"\"     "
   ]
  },
  {
   "cell_type": "markdown",
   "metadata": {
    "application/vnd.databricks.v1+cell": {
     "cellMetadata": {},
     "inputWidgets": {},
     "nuid": "f118ff6f-c142-43b6-b261-a17dae492cc9",
     "showTitle": false,
     "title": ""
    }
   },
   "source": [
    "### Create the POST call to the REST API"
   ]
  },
  {
   "cell_type": "code",
   "execution_count": null,
   "metadata": {
    "application/vnd.databricks.v1+cell": {
     "cellMetadata": {
      "byteLimit": 2048000,
      "rowLimit": 10000
     },
     "inputWidgets": {},
     "nuid": "6f068391-5729-4025-937f-c07f79a409a3",
     "showTitle": false,
     "title": ""
    }
   },
   "outputs": [],
   "source": [
    "\n",
    "def callAPI(skipToken = \"\"):\n",
    "    auth_headers = {'Authorization': 'Bearer ' + token.token}\n",
    "\n",
    "    if skipToken != \"\":\n",
    "        data = {\"query\": resourceGraphQuery,\"options\":{\"$skipToken\": skipToken} }\n",
    "    else:\n",
    "        data = {\"query\": resourceGraphQuery}\n",
    "\n",
    "    resourceGraphResponse = requests.post(resourceGraphURL,headers=auth_headers,json=data)\n",
    "\n",
    "    responseJSON = resourceGraphResponse.text\n",
    "\n",
    "    return responseJSON"
   ]
  },
  {
   "cell_type": "markdown",
   "metadata": {
    "application/vnd.databricks.v1+cell": {
     "cellMetadata": {},
     "inputWidgets": {},
     "nuid": "4e43115c-4ec7-4a59-8d2c-dac2bfa77905",
     "showTitle": false,
     "title": ""
    }
   },
   "source": [
    "#### Create a Python Function to parse API Response into a usable Data Frame"
   ]
  },
  {
   "cell_type": "code",
   "execution_count": null,
   "metadata": {
    "application/vnd.databricks.v1+cell": {
     "cellMetadata": {
      "byteLimit": 2048000,
      "rowLimit": 10000
     },
     "inputWidgets": {},
     "nuid": "7e7ab129-cf6f-46cf-acbb-2c0ad4cd9ffa",
     "showTitle": false,
     "title": ""
    }
   },
   "outputs": [],
   "source": [
    "def parseResponse(responseJSONText):\n",
    "    # Parallelize JSON string using Spark Context into a Pyspark Data Frame\n",
    "    responseDF=spark.read.json(sc.parallelize([responseJSONText]))\n",
    "\n",
    "    # Create a temp view so data can be transformed using SQL\n",
    "    responseDF.createOrReplaceTempView(\"v_tempJSON\")\n",
    "\n",
    "    # Parse response using Spark SQL\n",
    "    dfParsedResponse = spark.sql(parseQuery)\n",
    "\n",
    "    return dfParsedResponse"
   ]
  },
  {
   "cell_type": "markdown",
   "metadata": {
    "application/vnd.databricks.v1+cell": {
     "cellMetadata": {},
     "inputWidgets": {},
     "nuid": "ef6cf925-1754-416d-95fa-b9d89bb2b4ed",
     "showTitle": false,
     "title": ""
    }
   },
   "source": [
    "#### Coordinate functions and create Parquet table on Storage"
   ]
  },
  {
   "cell_type": "code",
   "execution_count": null,
   "metadata": {
    "application/vnd.databricks.v1+cell": {
     "cellMetadata": {
      "byteLimit": 2048000,
      "rowLimit": 10000
     },
     "inputWidgets": {},
     "nuid": "71354dde-30bc-4058-a5d3-f40c82c5a111",
     "showTitle": false,
     "title": ""
    }
   },
   "outputs": [],
   "source": [
    "# Save Response Text from API to a variable\n",
    "responseText = callAPI()\n",
    "\n",
    "# Parse Columns in Response Text to a Data Frame\n",
    "dfParsedResponse = parseResponse(responseText)\n",
    "\n",
    "dfParsedResponse.write.mode(\"overwrite\").parquet(saveDestination)"
   ]
  },
  {
   "cell_type": "markdown",
   "metadata": {
    "application/vnd.databricks.v1+cell": {
     "cellMetadata": {},
     "inputWidgets": {},
     "nuid": "58f968b8-2953-4c62-af62-33b417d57681",
     "showTitle": false,
     "title": ""
    }
   },
   "source": [
    "#### Check for paged API response and append to Parquet table"
   ]
  },
  {
   "cell_type": "code",
   "execution_count": null,
   "metadata": {
    "application/vnd.databricks.v1+cell": {
     "cellMetadata": {
      "byteLimit": 2048000,
      "rowLimit": 10000
     },
     "inputWidgets": {},
     "nuid": "232e5edb-3e4b-4e75-a450-7a86c5a4ac5e",
     "showTitle": false,
     "title": ""
    }
   },
   "outputs": [],
   "source": [
    "responseJSON = json.loads(responseText)\n",
    "\n",
    "while \"$skipToken\" in responseJSON:\n",
    "    # Set Skip Token Variable\n",
    "    skiptoken = responseJSON[\"$skipToken\"]\n",
    "\n",
    "    # Call the API using the Skip Token option\n",
    "    responseText = callAPI(skiptoken)\n",
    "\n",
    "    # Set a new response variable to be evaluated in while loop\n",
    "    responseJSON = json.loads(responseText)\n",
    "\n",
    "    # Create a new data frame from new API Response\n",
    "    dfParsedResponse = parseResponse(responseText)\n",
    "    \n",
    "    # Append Parquet table created in previous steps.\n",
    "    dfParsedResponse.write.mode(\"append\").parquet(saveDestination)"
   ]
  },
  {
   "cell_type": "markdown",
   "metadata": {
    "application/vnd.databricks.v1+cell": {
     "cellMetadata": {},
     "inputWidgets": {},
     "nuid": "eae1d29f-853f-4c6e-90f6-d962c373abb7",
     "showTitle": false,
     "title": ""
    }
   },
   "source": [
    "#### Optional: Check output"
   ]
  },
  {
   "cell_type": "code",
   "execution_count": null,
   "metadata": {
    "application/vnd.databricks.v1+cell": {
     "cellMetadata": {
      "byteLimit": 2048000,
      "rowLimit": 10000
     },
     "inputWidgets": {},
     "nuid": "d2a79bd0-6efa-4299-b321-083acf6406b1",
     "showTitle": false,
     "title": ""
    }
   },
   "outputs": [],
   "source": [
    "# df = spark.read.parquet(saveDestination)\n",
    "# display(df)"
   ]
  },
  {
   "cell_type": "markdown",
   "metadata": {
    "application/vnd.databricks.v1+cell": {
     "cellMetadata": {
      "byteLimit": 2048000,
      "rowLimit": 10000
     },
     "inputWidgets": {},
     "nuid": "015206c6-76b8-4499-b383-1d3dcd331149",
     "showTitle": false,
     "title": ""
    }
   },
   "source": [
    "#### For Reference. Cluster Setup"
   ]
  },
  {
   "cell_type": "code",
   "execution_count": null,
   "metadata": {
    "application/vnd.databricks.v1+cell": {
     "cellMetadata": {},
     "inputWidgets": {},
     "nuid": "5a841b7c-e004-4926-bbad-6fdc91a60bf5",
     "showTitle": false,
     "title": ""
    }
   },
   "outputs": [],
   "source": [
    "# {\n",
    "#     \"num_workers\": 0,\n",
    "#     \"cluster_name\": \"singleNodeCluster\",\n",
    "#     \"spark_version\": \"12.2.x-scala2.12\",\n",
    "#     \"spark_conf\": {\n",
    "#         \"spark.databricks.cluster.profile\": \"singleNode\",\n",
    "#         \"spark.master\": \"local[*, 4]\",\n",
    "#         \"spark.databricks.delta.preview.enabled\": \"true\"\n",
    "#     },\n",
    "#     \"azure_attributes\": {\n",
    "#         \"first_on_demand\": 1,\n",
    "#         \"availability\": \"ON_DEMAND_AZURE\",\n",
    "#         \"spot_bid_max_price\": -1\n",
    "#     },\n",
    "#     \"node_type_id\": \"Standard_DS3_v2\",\n",
    "#     \"driver_node_type_id\": \"Standard_DS3_v2\",\n",
    "#     \"ssh_public_keys\": [],\n",
    "#     \"custom_tags\": {\n",
    "#         \"ResourceClass\": \"SingleNode\"\n",
    "#     },\n",
    "#     \"spark_env_vars\": {\n",
    "#         \"AZURE_CLIENT_SECRET\": \"{{secrets/<keyvault name>/<tenant id secret name>}}\",\n",
    "#         \"AZURE_TENANT_ID\": \"{{secrets/<keyvault name>/<tenant id secret name>}}\",\n",
    "#         \"AZURE_CLIENT_ID\": \"{{secrets/<keyvault name>/<client id secret name>}}\",\n",
    "#         \"PYSPARK_PYTHON\": \"/databricks/python3/bin/python3\"\n",
    "#     },\n",
    "#     \"autotermination_minutes\": 30,\n",
    "#     \"enable_elastic_disk\": true,\n",
    "#     \"cluster_source\": \"UI\",\n",
    "#     \"init_scripts\": [],\n",
    "#     \"single_user_name\": \"\",\n",
    "#     \"enable_local_disk_encryption\": false,\n",
    "#     \"data_security_mode\": \"SINGLE_USER\",\n",
    "#     \"runtime_engine\": \"PHOTON\",\n",
    "#     \"cluster_id\": \"\"\n",
    "# }"
   ]
  }
 ],
 "metadata": {
  "application/vnd.databricks.v1+notebook": {
   "dashboards": [],
   "language": "python",
   "notebookMetadata": {
    "mostRecentlyExecutedCommandWithImplicitDF": {
     "commandId": 2729108032522974,
     "dataframes": [
      "_sqldf"
     ]
    },
    "pythonIndentUnit": 4
   },
   "notebookName": "Connect to Resource Graph - Resource Changes",
   "widgets": {}
  },
  "language_info": {
   "name": "python"
  }
 },
 "nbformat": 4,
 "nbformat_minor": 0
}
